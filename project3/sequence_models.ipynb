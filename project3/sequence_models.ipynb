{
 "cells": [
  {
   "cell_type": "code",
   "execution_count": 5,
   "metadata": {},
   "outputs": [
    {
     "name": "stderr",
     "output_type": "stream",
     "text": [
      "c:\\Python310\\lib\\site-packages\\tqdm\\auto.py:22: TqdmWarning: IProgress not found. Please update jupyter and ipywidgets. See https://ipywidgets.readthedocs.io/en/stable/user_install.html\n",
      "  from .autonotebook import tqdm as notebook_tqdm\n"
     ]
    }
   ],
   "source": [
    "import torch\n",
    "from torch import nn, optim\n",
    "import torch.nn.functional as F\n",
    "from collections import Counter\n",
    "import nltk\n",
    "import os"
   ]
  },
  {
   "attachments": {},
   "cell_type": "markdown",
   "metadata": {},
   "source": [
    "# 2.1 Word embedding\n",
    "\n",
    "Part 1:"
   ]
  },
  {
   "cell_type": "code",
   "execution_count": 2,
   "metadata": {},
   "outputs": [],
   "source": [
    "# Read txt file and tokenize\n",
    "def read_tokenize_txt(path):\n",
    "    with open(path, 'r', encoding=\"utf8\") as f:\n",
    "        tokens = nltk.tokenize.word_tokenize(f.read())\n",
    "    return tokens\n",
    "\n",
    "# Read all txt files in a directory and tokenize\n",
    "def read_tokenize_dir(path):\n",
    "    tokens = []\n",
    "    for file in os.listdir(path):\n",
    "        tokens += read_tokenize_txt(path + file)\n",
    "    return tokens\n",
    "\n",
    "\n",
    "train_data = read_tokenize_dir('../data_train/')\n",
    "test_data = read_tokenize_dir('../data_test/')\n",
    "val_data = read_tokenize_dir('../data_val/')"
   ]
  },
  {
   "cell_type": "code",
   "execution_count": 4,
   "metadata": {},
   "outputs": [
    {
     "name": "stdout",
     "output_type": "stream",
     "text": [
      "Number of tokens in training data: 2,757,691\n",
      "Number of distinct tokens in training data: 60,424\n",
      "Size of vocabulary: 2,177\n",
      "Comments:\n",
      "A little more than 3% of the tokens are in the vocabulary with the threshold of 100 occurences. This seems resonable.\n"
     ]
    }
   ],
   "source": [
    "# Part 2\n",
    "\n",
    "def get_freq_vocab(data, min_freq=100):\n",
    "    freq = Counter(data)\n",
    "    vocab = [w for w in freq.keys() if freq[w] >= min_freq]\n",
    "    return freq, vocab\n",
    "\n",
    "print(f\"Number of tokens in training data: {len(train_data):,}\")\n",
    "freq, vocab = get_freq_vocab(train_data, min_freq=100)\n",
    "print(f\"Number of distinct tokens in training data: {len(freq):,}\")\n",
    "print(f\"Size of vocabulary: {len(vocab):,}\")\n",
    "print(\"Comments:\\nA little more than 3% of the tokens are in the vocabulary with the threshold of 100 occurences. This seems resonable.\")"
   ]
  },
  {
   "cell_type": "code",
   "execution_count": null,
   "metadata": {},
   "outputs": [],
   "source": [
    "# Part 3\n",
    "class MyMLP(nn.Module):\n",
    "    \n",
    "    def __init__(self, embedding=None, context_size=3):\n",
    "        super().__init__()\n",
    "        \n",
    "        (vocab_size, embedding_dim) = embedding.weight.shape\n",
    "        # Instantiate an embedding layer\n",
    "        self.embedding = nn.Embedding(vocab_size, embedding_dim)\n",
    "        # Load the pretrained weights\n",
    "        self.embedding.load_state_dict(embedding.state_dict())\n",
    "        # Freeze the layer\n",
    "        for p in self.embedding.parameters():\n",
    "            p.requires_grad = False\n",
    "            \n",
    "        # Regular MLP\n",
    "        self.fc1 = nn.Linear(embedding_dim*context_size, 128)\n",
    "        self.fc2 = nn.Linear(128, 3)\n",
    "\n",
    "    def forward(self, x):\n",
    "        # x is of shape (N, context_size) but contains integers which can\n",
    "        # be seen as equivalent to (N, context_size, vocab_size) since one hot\n",
    "        # encoding is used under the hood\n",
    "        out = self.embedding(x)\n",
    "        # out is now of shape (N, context_size, embedding_dim)\n",
    "        \n",
    "        out = F.relu(self.fc1(torch.flatten(out, 1)))\n",
    "        # out is now of shape (N, context_size*embedding_dim)\n",
    "        \n",
    "        out = self.fc2(out)\n",
    "        return out\n"
   ]
  }
 ],
 "metadata": {
  "kernelspec": {
   "display_name": "Python 3",
   "language": "python",
   "name": "python3"
  },
  "language_info": {
   "codemirror_mode": {
    "name": "ipython",
    "version": 3
   },
   "file_extension": ".py",
   "mimetype": "text/x-python",
   "name": "python",
   "nbconvert_exporter": "python",
   "pygments_lexer": "ipython3",
   "version": "3.10.6"
  },
  "orig_nbformat": 4
 },
 "nbformat": 4,
 "nbformat_minor": 2
}
