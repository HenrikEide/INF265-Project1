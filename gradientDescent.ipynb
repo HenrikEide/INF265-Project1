{
 "cells": [
  {
   "cell_type": "code",
   "execution_count": 39,
   "metadata": {},
   "outputs": [
    {
     "data": {
      "text/plain": [
       "<torch._C.Generator at 0x2f8fff1e550>"
      ]
     },
     "execution_count": 39,
     "metadata": {},
     "output_type": "execute_result"
    }
   ],
   "source": [
    "import numpy as np\n",
    "import torch\n",
    "import torch.nn as nn\n",
    "import torch.optim as optim\n",
    "from datetime import datetime\n",
    "from torchvision import datasets, transforms\n",
    "from torch.utils.data import random_split\n",
    "from matplotlib import pyplot as plt\n",
    "\n",
    "torch.manual_seed(123)"
   ]
  },
  {
   "cell_type": "code",
   "execution_count": 40,
   "metadata": {},
   "outputs": [
    {
     "name": "stdout",
     "output_type": "stream",
     "text": [
      "Files already downloaded and verified\n",
      "Files already downloaded and verified\n"
     ]
    }
   ],
   "source": [
    "# Based on code from the pytorch tutorials\n",
    "\n",
    "data_path = '../data/'\n",
    "bp_filter = lambda x: x[1] in [0,2] # Bird and Plane Filter. Or if you will, Everything but Bird and Plane Filter\n",
    "preprocessor = transforms.Compose([\n",
    "            transforms.ToTensor(),\n",
    "            transforms.Normalize((0.4915, 0.4823, 0.4468),\n",
    "                                (0.2470, 0.2435, 0.2616))\n",
    "        ])\n",
    "\n",
    "cifar10_train_val = list(filter(bp_filter, datasets.CIFAR10(data_path, train=True, download=True, transform=preprocessor)))\n",
    "cifar10_test = list(filter(bp_filter, datasets.CIFAR10(data_path, train=False, download=True, transform=preprocessor)))\n",
    "\n",
    "label_map = {0: 0, 2: 1}\n",
    "class_names = ['airplane', 'bird']\n",
    "\n",
    "# For each dataset, keep only airplanes and birds\n",
    "cifar2_train_val = [(img, label_map[label]) for img, label in cifar10_train_val if label in [0, 2]]\n",
    "cifar2_test = [(img, label_map[label]) for img, label in cifar10_test if label in [0, 2]]\n",
    "\n",
    "n_train = int(len(cifar2_train_val)*0.90)\n",
    "n_val =  len(cifar2_train_val) - n_train\n",
    "cifar2_train, cifar2_val = random_split(\n",
    "        cifar2_train_val, \n",
    "        [n_train, n_val],\n",
    "        generator=torch.Generator().manual_seed(123)\n",
    ")\n"
   ]
  },
  {
   "cell_type": "code",
   "execution_count": 41,
   "metadata": {},
   "outputs": [
    {
     "data": {
      "text/plain": [
       "(tensor([[[-0.8785, -1.4659, -1.3389,  ..., -1.2278, -1.3707, -0.5133],\n",
       "          [-0.9896, -1.6565, -1.4977,  ..., -1.3072, -1.4501, -0.6404],\n",
       "          [-0.8309, -1.3866, -1.2754,  ..., -1.1325, -1.3707, -0.4816],\n",
       "          ...,\n",
       "          [-0.8626, -1.4501, -1.3072,  ..., -1.4501, -1.5612, -0.6086],\n",
       "          [-1.0214, -1.5930, -1.5453,  ..., -1.4818, -1.5771, -0.6086],\n",
       "          [-0.8309, -1.3866, -1.3389,  ..., -1.3866, -1.4183, -0.4975]],\n",
       " \n",
       "         [[-0.8533, -1.4492, -1.3204,  ..., -1.1754, -1.3365, -0.4829],\n",
       "          [-0.9661, -1.6425, -1.4814,  ..., -1.3204, -1.4331, -0.6118],\n",
       "          [-0.7889, -1.3687, -1.2560,  ..., -1.1916, -1.3687, -0.4507],\n",
       "          ...,\n",
       "          [-0.8372, -1.4170, -1.2882,  ..., -1.4331, -1.5459, -0.5796],\n",
       "          [-0.9983, -1.5781, -1.5298,  ..., -1.4653, -1.5620, -0.5796],\n",
       "          [-0.8050, -1.3687, -1.3204,  ..., -1.3687, -1.4009, -0.4668]],\n",
       " \n",
       "         [[-0.6586, -1.2133, -1.0933,  ..., -1.1533, -1.1833, -0.3138],\n",
       "          [-0.7635, -1.3931, -1.2432,  ..., -1.1833, -1.2282, -0.4337],\n",
       "          [-0.5986, -1.1383, -1.0334,  ..., -0.8985, -1.0933, -0.2838],\n",
       "          ...,\n",
       "          [-0.6436, -1.1383, -0.9884,  ..., -1.1683, -1.2882, -0.4038],\n",
       "          [-0.7635, -1.3032, -1.2582,  ..., -1.1983, -1.3182, -0.4038],\n",
       "          [-0.5836, -1.1083, -1.0634,  ..., -1.1083, -1.1533, -0.2988]]]),\n",
       " 1)"
      ]
     },
     "execution_count": 41,
     "metadata": {},
     "output_type": "execute_result"
    }
   ],
   "source": [
    "cifar2_test[500]"
   ]
  },
  {
   "cell_type": "code",
   "execution_count": 42,
   "metadata": {},
   "outputs": [
    {
     "name": "stdout",
     "output_type": "stream",
     "text": [
      "Size of the train dataset:         9000\n",
      "Size of the validation dataset:    1000\n",
      "Size of the test dataset:          2000\n"
     ]
    }
   ],
   "source": [
    "print(\"Size of the train dataset:        \", len(cifar2_train))\n",
    "print(\"Size of the validation dataset:   \", len(cifar2_val))\n",
    "print(\"Size of the test dataset:         \", len(cifar2_test))"
   ]
  },
  {
   "cell_type": "code",
   "execution_count": 43,
   "metadata": {},
   "outputs": [],
   "source": [
    "class MyMLP(nn.Module):\n",
    "    def __init__(self):\n",
    "        super().__init__()  # to inherit the '__init__' method from the 'nn.Module' class\n",
    "        # Add whatever you want here (e.g layers and activation functions)\n",
    "        # The order and names don't matter here but it is easier to understand\n",
    "        # if you go for Layer1, fun1, layer2, fun2, etc\n",
    "        # Some conventions:\n",
    "        # - conv stands for convolution\n",
    "        # - pool for pooling\n",
    "        # - fc for fully connected\n",
    "\n",
    "        self.flat = nn.Flatten()\n",
    "        # 32*32*3: determined by our dataset: 32x32 RGB images\n",
    "        self.fc1 = nn.Linear(32*32*3, 512)\n",
    "        self.fc2 = nn.Linear(512, 128)\n",
    "        self.act2 = nn.ReLU()\n",
    "        # 2: determined by our number of classes (birds and planes)\n",
    "        self.fc3 = nn.Linear(128, 32)\n",
    "        self.fc4 = nn.Linear(32, 2)\n",
    "        \n",
    "    # Remember, we saw earlier that `forward` defines the \n",
    "    # computation performed at every call (the forward pass) and that it\n",
    "    # should be overridden by all subclasses.\n",
    "    def forward(self, x):\n",
    "        # Now the order matters! \n",
    "        out = self.flat(x)\n",
    "        out = self.act2(self.fc1(out))\n",
    "        out = self.act2(self.fc2(out))\n",
    "        out = self.act2(self.fc3(out))\n",
    "        out = self.fc4(out)\n",
    "        return out\n",
    "        "
   ]
  },
  {
   "attachments": {},
   "cell_type": "markdown",
   "metadata": {},
   "source": [
    "## Training"
   ]
  },
  {
   "cell_type": "code",
   "execution_count": 44,
   "metadata": {},
   "outputs": [],
   "source": [
    "def train(n_epochs, optimizer, model, loss_fn, train_loader):\n",
    "    \n",
    "    n_batch = len(train_loader)\n",
    "    \n",
    "    # We'll store there the training loss for each epoch\n",
    "    losses_train = []\n",
    "    \n",
    "    # Set the network in training mode\n",
    "    model.train()\n",
    "    \n",
    "    # Re-initialize gradients, just in case the model has been inappropriately \n",
    "    # manipulated before the training\n",
    "    optimizer.zero_grad(set_to_none=True)\n",
    "    \n",
    "    for epoch in range(1, n_epochs + 1): \n",
    "        \n",
    "        # Training loss for the current epoch\n",
    "        loss_train = 0\n",
    "\n",
    "        # Loop over our dataset (in batches the data loader creates for us)\n",
    "        for imgs, labels in train_loader:\n",
    "            \n",
    "            # Feed a batch into our model\n",
    "            outputs = model(imgs)\n",
    "            \n",
    "            # Compute the loss we wish to minimize \n",
    "            # Note that by default, it is the mean loss that is computed\n",
    "            # (so entire_batch_loss / batch_size)\n",
    "            loss = loss_fn(outputs, labels) \n",
    "            #print(loss)\n",
    "            \n",
    "            # Perform the backward step. That is, compute the gradients of all parameters we want the network to learn\n",
    "            loss.backward()\n",
    "            \n",
    "            # Update the model\n",
    "            optimizer.step() \n",
    "            \n",
    "            # Zero out gradients before the next round (or the end of training)\n",
    "            optimizer.zero_grad() \n",
    "\n",
    "            # Update loss for this epoch\n",
    "            # It is important to transform the loss to a number with .item()\n",
    "            loss_train += loss.item()\n",
    "            \n",
    "        # Store current epoch loss. \n",
    "        losses_train.append(loss_train / n_batch)\n",
    "        \n",
    "\n",
    "        if epoch == 1 or epoch % 10 == 0:\n",
    "            print('{}  |  Epoch {}  |  Training loss {:.3f}'.format(\n",
    "                datetime.now().time(), epoch, loss_train / n_batch))\n",
    "            \n",
    "    return losses_train"
   ]
  },
  {
   "cell_type": "code",
   "execution_count": 45,
   "metadata": {},
   "outputs": [],
   "source": [
    "def train_manual_update(n_epochs, model, loss_fn, train_loader, lr=0.01, weight_decay=0, momentum=0):\n",
    "    n_batch = len(train_loader)\n",
    "    model.train()\n",
    "    loss_train = []\n",
    "    vel = []\n",
    "    for epoch in range(1, n_epochs + 1):\n",
    "        losses = 0\n",
    "        for img, label in train_loader:\n",
    "            output = model(img)\n",
    "            loss = loss_fn(output, label)\n",
    "            \n",
    "            losses += loss #loss ble ikke plusset   \n",
    "            loss.backward()\n",
    "    \n",
    "            with torch.no_grad():\n",
    "                for i, p in enumerate(model.parameters()):\n",
    "                    if epoch == 1:\n",
    "                        vel.append(torch.zeros(p.data.size(), dtype=torch.float).to(device=\"cpu\"))\n",
    "                    \n",
    "                    grad = p.grad\n",
    "                    \n",
    "                    if weight_decay > 0:\n",
    "                        grad = grad + weight_decay*p.data\n",
    "                        \n",
    "                    if momentum > 0:\n",
    "                        vel[i] = momentum * vel[i] + grad\n",
    "                        tempy = lr*(weight_decay*p.data) #nb\n",
    "                        p.data = p.data - lr*vel[i] - tempy\n",
    "                        \n",
    "                    else:\n",
    "                        tempy = lr*(weight_decay*p.data)\n",
    "                        p.data = p.data - (lr*grad) - tempy\n",
    "                        \n",
    "                    p.grad.data.zero_()\n",
    "        loss_train.append(losses/n_batch)\n",
    "        if epoch == 1 or epoch % 10 == 0:\n",
    "            print('{}  |  Epoch {}  |  Training loss {:.3f}'.format(\n",
    "                datetime.now().time(), epoch, losses / n_batch))\n",
    "    return loss_train\n",
    "\n",
    "        "
   ]
  },
  {
   "cell_type": "code",
   "execution_count": 46,
   "metadata": {},
   "outputs": [],
   "source": [
    "train_loader = torch.utils.data.DataLoader(cifar2_train, batch_size=64, shuffle=True)"
   ]
  },
  {
   "cell_type": "code",
   "execution_count": 47,
   "metadata": {
    "scrolled": true
   },
   "outputs": [
    {
     "name": "stdout",
     "output_type": "stream",
     "text": [
      "14:12:35.934683  |  Epoch 1  |  Training loss 0.640\n"
     ]
    },
    {
     "data": {
      "text/plain": [
       "[0.6401891835192417, 0.5386637138559464, 0.4816735302302854]"
      ]
     },
     "execution_count": 47,
     "metadata": {},
     "output_type": "execute_result"
    }
   ],
   "source": [
    "torch.manual_seed(123)\n",
    "model = MyMLP()\n",
    "\n",
    "optimizer = optim.SGD(model.parameters(), lr=1e-2)\n",
    "loss_fn = nn.CrossEntropyLoss()\n",
    "\n",
    "loss_train = train(3, optimizer, model, loss_fn, train_loader)\n",
    "loss_train\n",
    "\n"
   ]
  },
  {
   "cell_type": "code",
   "execution_count": 48,
   "metadata": {},
   "outputs": [
    {
     "name": "stdout",
     "output_type": "stream",
     "text": [
      "14:17:25.151427  |  Epoch 1  |  Training loss 0.640\n",
      "14:18:03.754331  |  Epoch 10  |  Training loss 0.332\n"
     ]
    },
    {
     "data": {
      "text/plain": [
       "[tensor(0.6402, grad_fn=<DivBackward0>),\n",
       " tensor(0.5387, grad_fn=<DivBackward0>),\n",
       " tensor(0.4817, grad_fn=<DivBackward0>),\n",
       " tensor(0.4505, grad_fn=<DivBackward0>),\n",
       " tensor(0.4247, grad_fn=<DivBackward0>),\n",
       " tensor(0.4016, grad_fn=<DivBackward0>),\n",
       " tensor(0.3825, grad_fn=<DivBackward0>),\n",
       " tensor(0.3638, grad_fn=<DivBackward0>),\n",
       " tensor(0.3477, grad_fn=<DivBackward0>),\n",
       " tensor(0.3318, grad_fn=<DivBackward0>)]"
      ]
     },
     "execution_count": 48,
     "metadata": {},
     "output_type": "execute_result"
    }
   ],
   "source": [
    "\n",
    "torch.manual_seed(123)\n",
    "\n",
    "model_manual = MyMLP()\n",
    "\n",
    "loss_fn = nn.CrossEntropyLoss()\n",
    "\n",
    "loss_train = train_manual_update(10, model_manual, loss_fn, train_loader)\n",
    "loss_train\n"
   ]
  },
  {
   "cell_type": "code",
   "execution_count": 49,
   "metadata": {},
   "outputs": [],
   "source": [
    "model01 = MyMLP()\n",
    "model02 = MyMLP()\n",
    "model03 = MyMLP()\n",
    "model04 = MyMLP()\n",
    "models = [model01, model02, model03, model04]\n",
    "hyperparams = [[0.1, 0.9, 0], [0.1, 0.9, 0.01], [0.1, 0.9, 0.001], [0.1, 0.8, 0.01]]\n",
    "\n",
    "train_loader = torch.utils.data.DataLoader(cifar2_train, batch_size=64, shuffle=False)\n",
    "val_loader = torch.utils.data.DataLoader(cifar2_val, batch_size=64, shuffle=False)\n"
   ]
  },
  {
   "cell_type": "code",
   "execution_count": 51,
   "metadata": {},
   "outputs": [
    {
     "name": "stdout",
     "output_type": "stream",
     "text": [
      "lr, mom, decay: [0.1, 0.9, 0]\n",
      "15:02:07.207045  |  Epoch 1  |  Training loss 0.695\n",
      "15:02:45.944580  |  Epoch 10  |  Training loss 0.695\n",
      "15:03:23.002585  |  Epoch 20  |  Training loss 0.695\n",
      "\n",
      "lr, mom, decay: [0.1, 0.9, 0.01]\n",
      "15:03:27.832577  |  Epoch 1  |  Training loss 0.519\n",
      "15:04:04.996136  |  Epoch 10  |  Training loss 0.519\n",
      "15:04:51.012466  |  Epoch 20  |  Training loss 0.611\n",
      "\n",
      "lr, mom, decay: [0.1, 0.9, 0.001]\n",
      "15:04:55.373120  |  Epoch 1  |  Training loss 0.525\n",
      "15:05:31.481942  |  Epoch 10  |  Training loss 0.436\n",
      "15:06:11.574315  |  Epoch 20  |  Training loss 0.695\n",
      "\n",
      "lr, mom, decay: [0.1, 0.8, 0.01]\n",
      "15:06:15.927678  |  Epoch 1  |  Training loss 0.505\n",
      "15:06:53.035188  |  Epoch 10  |  Training loss 0.432\n",
      "15:07:35.289319  |  Epoch 20  |  Training loss 0.428\n",
      "\n"
     ]
    }
   ],
   "source": [
    "for model, hpars in zip(models, hyperparams):\n",
    "    print(f\"lr, mom, decay: {hpars}\")\n",
    "    train_manual_update(20, model, loss_fn, train_loader, hpars[0], hpars[2], hpars[1])\n",
    "    print()"
   ]
  },
  {
   "attachments": {},
   "cell_type": "markdown",
   "metadata": {},
   "source": [
    "## Evaluation"
   ]
  },
  {
   "cell_type": "code",
   "execution_count": 52,
   "metadata": {},
   "outputs": [],
   "source": [
    "def compute_accuracy(model, loader):\n",
    "    model.eval()\n",
    "    correct = 0\n",
    "    total = 0\n",
    "\n",
    "    # We do not want gradients here, as we will not want to update the parameters.\n",
    "    with torch.no_grad():\n",
    "        for imgs, labels in loader:\n",
    "\n",
    "            outputs = model(imgs)\n",
    "            _, predicted = torch.max(outputs, dim=1)\n",
    "            total += labels.shape[0]\n",
    "            correct += int((predicted == labels).sum())\n",
    "\n",
    "    acc =  correct / total\n",
    "    print(\"Accuracy: {:.2f}\".format(acc))\n",
    "    return acc"
   ]
  },
  {
   "cell_type": "code",
   "execution_count": 53,
   "metadata": {},
   "outputs": [
    {
     "name": "stdout",
     "output_type": "stream",
     "text": [
      "\n",
      "lr, mom, decay: [0.1, 0.9, 0]\n",
      "Training accuracy:\n",
      "Accuracy: 0.50\n",
      "Validation accuracy:\n",
      "Accuracy: 0.50\n",
      "\n",
      "lr, mom, decay: [0.1, 0.9, 0.01]\n",
      "Training accuracy:\n",
      "Accuracy: 0.75\n",
      "Validation accuracy:\n",
      "Accuracy: 0.78\n",
      "\n",
      "lr, mom, decay: [0.1, 0.9, 0.001]\n",
      "Training accuracy:\n",
      "Accuracy: 0.50\n",
      "Validation accuracy:\n",
      "Accuracy: 0.50\n",
      "\n",
      "lr, mom, decay: [0.1, 0.8, 0.01]\n",
      "Training accuracy:\n",
      "Accuracy: 0.82\n",
      "Validation accuracy:\n",
      "Accuracy: 0.80\n",
      "\n",
      "lr, mom, decay of best model: [0.1, 0.8, 0.01] \n",
      " MyMLP(\n",
      "  (flat): Flatten(start_dim=1, end_dim=-1)\n",
      "  (fc1): Linear(in_features=3072, out_features=512, bias=True)\n",
      "  (fc2): Linear(in_features=512, out_features=128, bias=True)\n",
      "  (act2): ReLU()\n",
      "  (fc3): Linear(in_features=128, out_features=32, bias=True)\n",
      "  (fc4): Linear(in_features=32, out_features=2, bias=True)\n",
      ")\n"
     ]
    }
   ],
   "source": [
    "accs = []\n",
    "for model, hpars in zip(models, hyperparams):\n",
    "    print(f\"\\nlr, mom, decay: {hpars}\")\n",
    "    print(\"Training accuracy:\")\n",
    "    compute_accuracy(model, train_loader)\n",
    "    print(\"Validation accuracy:\")\n",
    "    acc = compute_accuracy(model, val_loader)\n",
    "    accs.append(acc)\n",
    "\n",
    "\n",
    "best_acc = accs.index(max(accs))\n",
    "best_model = models[best_acc]\n",
    "print(f\"\\nlr, mom, decay of best model: {hyperparams[best_acc]}\", \"\\n\", best_model)"
   ]
  }
 ],
 "metadata": {
  "kernelspec": {
   "display_name": "Python 3",
   "language": "python",
   "name": "python3"
  },
  "language_info": {
   "codemirror_mode": {
    "name": "ipython",
    "version": 3
   },
   "file_extension": ".py",
   "mimetype": "text/x-python",
   "name": "python",
   "nbconvert_exporter": "python",
   "pygments_lexer": "ipython3",
   "version": "3.10.6"
  },
  "vscode": {
   "interpreter": {
    "hash": "369f2c481f4da34e4445cda3fffd2e751bd1c4d706f27375911949ba6bb62e1c"
   }
  }
 },
 "nbformat": 4,
 "nbformat_minor": 2
}
