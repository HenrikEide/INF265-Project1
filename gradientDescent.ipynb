{
 "cells": [
  {
   "cell_type": "code",
   "execution_count": 4,
   "metadata": {},
   "outputs": [],
   "source": [
    "import numpy as np\n",
    "import torch\n",
    "from torchvision import datasets\n",
    "from torch.utils.data import random_split\n",
    "from matplotlib import pyplot as plt\n"
   ]
  },
  {
   "cell_type": "code",
   "execution_count": 6,
   "metadata": {},
   "outputs": [
    {
     "name": "stdout",
     "output_type": "stream",
     "text": [
      "Files already downloaded and verified\n",
      "Files already downloaded and verified\n"
     ]
    }
   ],
   "source": [
    "# Based on code from the pytorch tutorials\n",
    "\n",
    "data_path = '../data/'\n",
    "bp_filter = lambda x: x[1] in [0,2] # Bird and Plane Filter. Or if you will, Everything but Bird and Plane Filter\n",
    "\n",
    "cifar10_train_val = list(filter(bp_filter, datasets.CIFAR10(data_path, train=True, download=True)))\n",
    "cifar10_test = list(filter(bp_filter, datasets.CIFAR10(data_path, train=False, download=True)))\n",
    "\n",
    "n_train = int(len(cifar10_train_val)*0.90)\n",
    "n_val =  len(cifar10_train_val) - n_train\n",
    "cifar10_train, cifar10_val = random_split(\n",
    "        cifar10_train_val, \n",
    "        [n_train, n_val],\n",
    "        generator=torch.Generator().manual_seed(123)\n",
    ")"
   ]
  },
  {
   "cell_type": "code",
   "execution_count": 7,
   "metadata": {},
   "outputs": [
    {
     "name": "stdout",
     "output_type": "stream",
     "text": [
      "Size of the train dataset:         9000\n",
      "Size of the validation dataset:    1000\n",
      "Size of the test dataset:          2000\n"
     ]
    }
   ],
   "source": [
    "print(\"Size of the train dataset:        \", len(cifar10_train))\n",
    "print(\"Size of the validation dataset:   \", len(cifar10_val))\n",
    "print(\"Size of the test dataset:         \", len(cifar10_test))"
   ]
  },
  {
   "cell_type": "code",
   "execution_count": null,
   "metadata": {},
   "outputs": [],
   "source": [
    "def train_manual_update(n_epochs, lr, model, loss_fn, train_loader):\n",
    "    model.train()\n",
    "    for epoch in range(n_epochs):\n",
    "        loss = 0\n",
    "        for img, label in train_loader:\n",
    "            output = model(img)\n",
    "            loss = loss_fn(output, label)\n",
    "            loss.backward()\n",
    "            if not epoch:\n",
    "                vel = []\n",
    "            with torch.no_grad():\n",
    "                for i, p in enumerate(model.parameters()):\n",
    "                    if not epoch:\n",
    "                        vel.append(torch.zeros(p.data.size(), dtype=torch.float).to(torch.device(\"cpu\")))\n",
    "                    p.data = p.data - (lr * p.grad.data)\n"
   ]
  }
 ],
 "metadata": {
  "kernelspec": {
   "display_name": "Python 3",
   "language": "python",
   "name": "python3"
  },
  "language_info": {
   "codemirror_mode": {
    "name": "ipython",
    "version": 3
   },
   "file_extension": ".py",
   "mimetype": "text/x-python",
   "name": "python",
   "nbconvert_exporter": "python",
   "pygments_lexer": "ipython3",
   "version": "3.10.6"
  },
  "orig_nbformat": 4,
  "vscode": {
   "interpreter": {
    "hash": "369f2c481f4da34e4445cda3fffd2e751bd1c4d706f27375911949ba6bb62e1c"
   }
  }
 },
 "nbformat": 4,
 "nbformat_minor": 2
}
