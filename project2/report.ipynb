{
 "cells": [
  {
   "attachments": {},
   "cell_type": "markdown",
   "metadata": {},
   "source": [
    "## 2. Object Localization\n",
    "\n",
    "In the first part, the task is to train a neural network to identify objects in an image, and then to outline the object with a bounding box. The images stem from a variation of part the MNIST such that there is only one (or zero) object(s) per image. After training a model we evaluate its performance, with accuracy as a measure. This works well on evaluating the object localization part, but does not give as much insight onto how well it predicts bounding boxes."
   ]
  },
  {
   "cell_type": "markdown",
   "metadata": {},
   "source": []
  }
 ],
 "metadata": {
  "language_info": {
   "name": "python"
  },
  "orig_nbformat": 4
 },
 "nbformat": 4,
 "nbformat_minor": 2
}
